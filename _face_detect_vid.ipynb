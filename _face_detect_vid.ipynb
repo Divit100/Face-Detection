{
  "nbformat": 4,
  "nbformat_minor": 0,
  "metadata": {
    "kernelspec": {
      "display_name": "Python 3",
      "language": "python",
      "name": "python3"
    },
    "language_info": {
      "codemirror_mode": {
        "name": "ipython",
        "version": 3
      },
      "file_extension": ".py",
      "mimetype": "text/x-python",
      "name": "python",
      "nbconvert_exporter": "python",
      "pygments_lexer": "ipython3",
      "version": "3.7.7"
    },
    "colab": {
      "name": "@@@face_detect_vid.ipynb",
      "provenance": []
    }
  },
  "cells": [
    {
      "cell_type": "code",
      "metadata": {
        "id": "JPPcm42MslAx",
        "colab_type": "code",
        "colab": {}
      },
      "source": [
        ""
      ],
      "execution_count": null,
      "outputs": []
    },
    {
      "cell_type": "code",
      "metadata": {
        "id": "_GjW_ZamslA3",
        "colab_type": "code",
        "colab": {}
      },
      "source": [
        "import numpy as np\n",
        "import matplotlib.pyplot as plt\n",
        "%matplotlib inline\n",
        "import cv2"
      ],
      "execution_count": null,
      "outputs": []
    },
    {
      "cell_type": "code",
      "metadata": {
        "id": "ue6GC6C8slA7",
        "colab_type": "code",
        "colab": {}
      },
      "source": [
        ""
      ],
      "execution_count": null,
      "outputs": []
    },
    {
      "cell_type": "code",
      "metadata": {
        "id": "75ZXx0IuslA_",
        "colab_type": "code",
        "colab": {}
      },
      "source": [
        "\n",
        "face_cascade=cv2.CascadeClassifier(\"C:/Users/Divit/Desktop/haarcascade_frontalface_default.xml\")\n",
        "\n"
      ],
      "execution_count": null,
      "outputs": []
    },
    {
      "cell_type": "code",
      "metadata": {
        "id": "OZ_0CVKLslBD",
        "colab_type": "code",
        "colab": {}
      },
      "source": [
        "def detect(img):\n",
        "    img_c=img.copy()\n",
        "    \n",
        "    rect_face=face_cascade.detectMultiScale(img_c)\n",
        "    \n",
        "    for (x,y,w,h) in rect_face:\n",
        "        cv2.rectangle(img_c,(x,y),(x+w,y+h),(0,255,0),10)\n",
        "        \n",
        "    return img_c"
      ],
      "execution_count": null,
      "outputs": []
    },
    {
      "cell_type": "code",
      "metadata": {
        "id": "DUKnR-ZrslBH",
        "colab_type": "code",
        "colab": {}
      },
      "source": [
        "cap=cv2.VideoCapture(0)\n",
        "\n",
        "while True:\n",
        "    ret,frame=cap.read(0)\n",
        "    i=detect(frame)\n",
        "    cv2.imshow('WEBCAM',i)\n",
        "    \n",
        "    k=cv2.waitKey(1)\n",
        "    if k==27:\n",
        "        break\n",
        "        \n",
        "cap.release()\n",
        "cv2.destroyAllWindows()"
      ],
      "execution_count": null,
      "outputs": []
    },
    {
      "cell_type": "code",
      "metadata": {
        "id": "CoCs3U37slBL",
        "colab_type": "code",
        "colab": {}
      },
      "source": [
        ""
      ],
      "execution_count": null,
      "outputs": []
    },
    {
      "cell_type": "code",
      "metadata": {
        "id": "f2IgUceXslBP",
        "colab_type": "code",
        "colab": {}
      },
      "source": [
        ""
      ],
      "execution_count": null,
      "outputs": []
    }
  ]
}